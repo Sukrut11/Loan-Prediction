{
 "cells": [
  {
   "cell_type": "code",
   "execution_count": 1,
   "id": "729138ee",
   "metadata": {},
   "outputs": [],
   "source": [
    "import pandas as pd\n",
    "import matplotlib.pyplot as plt\n",
    "import seaborn as sns\n",
    "import plotly.express as px\n",
    "import numpy as np\n",
    "plt.style.use(\"dark_background\")"
   ]
  },
  {
   "cell_type": "code",
   "execution_count": 2,
   "id": "a9292dad",
   "metadata": {},
   "outputs": [],
   "source": [
    "train= pd.read_csv(\"https://raw.githubusercontent.com/ashish-ash303/Loan-Defaulter-Prediction/main/Training%20Data.csv\")\n",
    "test= pd.read_csv(\"https://raw.githubusercontent.com/ashish-ash303/Loan-Defaulter-Prediction/main/Test%20Data.csv\")"
   ]
  },
  {
   "cell_type": "code",
   "execution_count": 3,
   "id": "ce94f250",
   "metadata": {},
   "outputs": [
    {
     "data": {
      "text/plain": [
       "['Income',\n",
       " 'Age',\n",
       " 'Experience',\n",
       " 'Married/Single',\n",
       " 'House_Ownership',\n",
       " 'Car_Ownership',\n",
       " 'Profession',\n",
       " 'CITY',\n",
       " 'STATE',\n",
       " 'CURRENT_JOB_YRS',\n",
       " 'CURRENT_HOUSE_YRS']"
      ]
     },
     "execution_count": 3,
     "metadata": {},
     "output_type": "execute_result"
    }
   ],
   "source": [
    "input_cols= train.columns[1:-1]\n",
    "list((input_cols))"
   ]
  },
  {
   "cell_type": "code",
   "execution_count": 4,
   "id": "b637aed5",
   "metadata": {},
   "outputs": [
    {
     "name": "stdout",
     "output_type": "stream",
     "text": [
      "Risk_Flag\n"
     ]
    }
   ],
   "source": [
    "target_cols= \"Risk_Flag\"\n",
    "print(target_cols)"
   ]
  },
  {
   "cell_type": "code",
   "execution_count": 5,
   "id": "2fcf3023",
   "metadata": {},
   "outputs": [
    {
     "data": {
      "text/html": [
       "<div>\n",
       "<style scoped>\n",
       "    .dataframe tbody tr th:only-of-type {\n",
       "        vertical-align: middle;\n",
       "    }\n",
       "\n",
       "    .dataframe tbody tr th {\n",
       "        vertical-align: top;\n",
       "    }\n",
       "\n",
       "    .dataframe thead th {\n",
       "        text-align: right;\n",
       "    }\n",
       "</style>\n",
       "<table border=\"1\" class=\"dataframe\">\n",
       "  <thead>\n",
       "    <tr style=\"text-align: right;\">\n",
       "      <th></th>\n",
       "      <th>Income</th>\n",
       "      <th>Age</th>\n",
       "      <th>Experience</th>\n",
       "      <th>Married/Single</th>\n",
       "      <th>House_Ownership</th>\n",
       "      <th>Car_Ownership</th>\n",
       "      <th>Profession</th>\n",
       "      <th>CITY</th>\n",
       "      <th>STATE</th>\n",
       "      <th>CURRENT_JOB_YRS</th>\n",
       "      <th>CURRENT_HOUSE_YRS</th>\n",
       "    </tr>\n",
       "  </thead>\n",
       "  <tbody>\n",
       "    <tr>\n",
       "      <th>0</th>\n",
       "      <td>1303834</td>\n",
       "      <td>23</td>\n",
       "      <td>3</td>\n",
       "      <td>single</td>\n",
       "      <td>rented</td>\n",
       "      <td>no</td>\n",
       "      <td>Mechanical_engineer</td>\n",
       "      <td>Rewa</td>\n",
       "      <td>Madhya_Pradesh</td>\n",
       "      <td>3</td>\n",
       "      <td>13</td>\n",
       "    </tr>\n",
       "    <tr>\n",
       "      <th>1</th>\n",
       "      <td>7574516</td>\n",
       "      <td>40</td>\n",
       "      <td>10</td>\n",
       "      <td>single</td>\n",
       "      <td>rented</td>\n",
       "      <td>no</td>\n",
       "      <td>Software_Developer</td>\n",
       "      <td>Parbhani</td>\n",
       "      <td>Maharashtra</td>\n",
       "      <td>9</td>\n",
       "      <td>13</td>\n",
       "    </tr>\n",
       "    <tr>\n",
       "      <th>2</th>\n",
       "      <td>3991815</td>\n",
       "      <td>66</td>\n",
       "      <td>4</td>\n",
       "      <td>married</td>\n",
       "      <td>rented</td>\n",
       "      <td>no</td>\n",
       "      <td>Technical_writer</td>\n",
       "      <td>Alappuzha</td>\n",
       "      <td>Kerala</td>\n",
       "      <td>4</td>\n",
       "      <td>10</td>\n",
       "    </tr>\n",
       "    <tr>\n",
       "      <th>3</th>\n",
       "      <td>6256451</td>\n",
       "      <td>41</td>\n",
       "      <td>2</td>\n",
       "      <td>single</td>\n",
       "      <td>rented</td>\n",
       "      <td>yes</td>\n",
       "      <td>Software_Developer</td>\n",
       "      <td>Bhubaneswar</td>\n",
       "      <td>Odisha</td>\n",
       "      <td>2</td>\n",
       "      <td>12</td>\n",
       "    </tr>\n",
       "    <tr>\n",
       "      <th>4</th>\n",
       "      <td>5768871</td>\n",
       "      <td>47</td>\n",
       "      <td>11</td>\n",
       "      <td>single</td>\n",
       "      <td>rented</td>\n",
       "      <td>no</td>\n",
       "      <td>Civil_servant</td>\n",
       "      <td>Tiruchirappalli[10]</td>\n",
       "      <td>Tamil_Nadu</td>\n",
       "      <td>3</td>\n",
       "      <td>14</td>\n",
       "    </tr>\n",
       "  </tbody>\n",
       "</table>\n",
       "</div>"
      ],
      "text/plain": [
       "    Income  Age  Experience Married/Single House_Ownership Car_Ownership  \\\n",
       "0  1303834   23           3         single          rented            no   \n",
       "1  7574516   40          10         single          rented            no   \n",
       "2  3991815   66           4        married          rented            no   \n",
       "3  6256451   41           2         single          rented           yes   \n",
       "4  5768871   47          11         single          rented            no   \n",
       "\n",
       "            Profession                 CITY           STATE  CURRENT_JOB_YRS  \\\n",
       "0  Mechanical_engineer                 Rewa  Madhya_Pradesh                3   \n",
       "1   Software_Developer             Parbhani     Maharashtra                9   \n",
       "2     Technical_writer            Alappuzha          Kerala                4   \n",
       "3   Software_Developer          Bhubaneswar          Odisha                2   \n",
       "4        Civil_servant  Tiruchirappalli[10]      Tamil_Nadu                3   \n",
       "\n",
       "   CURRENT_HOUSE_YRS  \n",
       "0                 13  \n",
       "1                 13  \n",
       "2                 10  \n",
       "3                 12  \n",
       "4                 14  "
      ]
     },
     "execution_count": 5,
     "metadata": {},
     "output_type": "execute_result"
    }
   ],
   "source": [
    "input_df= train[input_cols].copy()\n",
    "input_df.head()"
   ]
  },
  {
   "cell_type": "code",
   "execution_count": 6,
   "id": "c3c9ab3d",
   "metadata": {},
   "outputs": [
    {
     "data": {
      "text/plain": [
       "0         0\n",
       "1         0\n",
       "2         0\n",
       "3         1\n",
       "4         1\n",
       "         ..\n",
       "251995    0\n",
       "251996    0\n",
       "251997    0\n",
       "251998    0\n",
       "251999    0\n",
       "Name: Risk_Flag, Length: 252000, dtype: int64"
      ]
     },
     "execution_count": 6,
     "metadata": {},
     "output_type": "execute_result"
    }
   ],
   "source": [
    "target_df= train[target_cols].copy()\n",
    "target_df"
   ]
  },
  {
   "cell_type": "code",
   "execution_count": 7,
   "id": "ef388b5f",
   "metadata": {},
   "outputs": [
    {
     "data": {
      "text/plain": [
       "317"
      ]
     },
     "execution_count": 7,
     "metadata": {},
     "output_type": "execute_result"
    }
   ],
   "source": [
    "train[\"CITY\"].nunique()"
   ]
  },
  {
   "cell_type": "code",
   "execution_count": 8,
   "id": "2ca5549c",
   "metadata": {},
   "outputs": [
    {
     "data": {
      "text/plain": [
       "51"
      ]
     },
     "execution_count": 8,
     "metadata": {},
     "output_type": "execute_result"
    }
   ],
   "source": [
    "train[\"Profession\"].nunique()"
   ]
  },
  {
   "cell_type": "code",
   "execution_count": 9,
   "id": "0603cd31",
   "metadata": {},
   "outputs": [
    {
     "data": {
      "text/plain": [
       "29"
      ]
     },
     "execution_count": 9,
     "metadata": {},
     "output_type": "execute_result"
    }
   ],
   "source": [
    "train.STATE.nunique()"
   ]
  },
  {
   "cell_type": "code",
   "execution_count": 10,
   "id": "999fbcf7",
   "metadata": {},
   "outputs": [
    {
     "data": {
      "text/html": [
       "<div>\n",
       "<style scoped>\n",
       "    .dataframe tbody tr th:only-of-type {\n",
       "        vertical-align: middle;\n",
       "    }\n",
       "\n",
       "    .dataframe tbody tr th {\n",
       "        vertical-align: top;\n",
       "    }\n",
       "\n",
       "    .dataframe thead th {\n",
       "        text-align: right;\n",
       "    }\n",
       "</style>\n",
       "<table border=\"1\" class=\"dataframe\">\n",
       "  <thead>\n",
       "    <tr style=\"text-align: right;\">\n",
       "      <th></th>\n",
       "      <th>Income</th>\n",
       "      <th>Age</th>\n",
       "      <th>Experience</th>\n",
       "      <th>Married/Single</th>\n",
       "      <th>House_Ownership</th>\n",
       "      <th>Car_Ownership</th>\n",
       "      <th>Profession</th>\n",
       "      <th>CURRENT_JOB_YRS</th>\n",
       "      <th>CURRENT_HOUSE_YRS</th>\n",
       "    </tr>\n",
       "  </thead>\n",
       "  <tbody>\n",
       "    <tr>\n",
       "      <th>0</th>\n",
       "      <td>1303834</td>\n",
       "      <td>23</td>\n",
       "      <td>3</td>\n",
       "      <td>single</td>\n",
       "      <td>rented</td>\n",
       "      <td>no</td>\n",
       "      <td>Mechanical_engineer</td>\n",
       "      <td>3</td>\n",
       "      <td>13</td>\n",
       "    </tr>\n",
       "    <tr>\n",
       "      <th>1</th>\n",
       "      <td>7574516</td>\n",
       "      <td>40</td>\n",
       "      <td>10</td>\n",
       "      <td>single</td>\n",
       "      <td>rented</td>\n",
       "      <td>no</td>\n",
       "      <td>Software_Developer</td>\n",
       "      <td>9</td>\n",
       "      <td>13</td>\n",
       "    </tr>\n",
       "    <tr>\n",
       "      <th>2</th>\n",
       "      <td>3991815</td>\n",
       "      <td>66</td>\n",
       "      <td>4</td>\n",
       "      <td>married</td>\n",
       "      <td>rented</td>\n",
       "      <td>no</td>\n",
       "      <td>Technical_writer</td>\n",
       "      <td>4</td>\n",
       "      <td>10</td>\n",
       "    </tr>\n",
       "    <tr>\n",
       "      <th>3</th>\n",
       "      <td>6256451</td>\n",
       "      <td>41</td>\n",
       "      <td>2</td>\n",
       "      <td>single</td>\n",
       "      <td>rented</td>\n",
       "      <td>yes</td>\n",
       "      <td>Software_Developer</td>\n",
       "      <td>2</td>\n",
       "      <td>12</td>\n",
       "    </tr>\n",
       "    <tr>\n",
       "      <th>4</th>\n",
       "      <td>5768871</td>\n",
       "      <td>47</td>\n",
       "      <td>11</td>\n",
       "      <td>single</td>\n",
       "      <td>rented</td>\n",
       "      <td>no</td>\n",
       "      <td>Civil_servant</td>\n",
       "      <td>3</td>\n",
       "      <td>14</td>\n",
       "    </tr>\n",
       "  </tbody>\n",
       "</table>\n",
       "</div>"
      ],
      "text/plain": [
       "    Income  Age  Experience Married/Single House_Ownership Car_Ownership  \\\n",
       "0  1303834   23           3         single          rented            no   \n",
       "1  7574516   40          10         single          rented            no   \n",
       "2  3991815   66           4        married          rented            no   \n",
       "3  6256451   41           2         single          rented           yes   \n",
       "4  5768871   47          11         single          rented            no   \n",
       "\n",
       "            Profession  CURRENT_JOB_YRS  CURRENT_HOUSE_YRS  \n",
       "0  Mechanical_engineer                3                 13  \n",
       "1   Software_Developer                9                 13  \n",
       "2     Technical_writer                4                 10  \n",
       "3   Software_Developer                2                 12  \n",
       "4        Civil_servant                3                 14  "
      ]
     },
     "execution_count": 10,
     "metadata": {},
     "output_type": "execute_result"
    }
   ],
   "source": [
    "input_df= input_df.drop(columns=[\"CITY\", \"STATE\"], axis= 1)\n",
    "input_df.head()"
   ]
  },
  {
   "cell_type": "code",
   "execution_count": 11,
   "id": "6b944569",
   "metadata": {},
   "outputs": [
    {
     "data": {
      "text/html": [
       "<div>\n",
       "<style scoped>\n",
       "    .dataframe tbody tr th:only-of-type {\n",
       "        vertical-align: middle;\n",
       "    }\n",
       "\n",
       "    .dataframe tbody tr th {\n",
       "        vertical-align: top;\n",
       "    }\n",
       "\n",
       "    .dataframe thead th {\n",
       "        text-align: right;\n",
       "    }\n",
       "</style>\n",
       "<table border=\"1\" class=\"dataframe\">\n",
       "  <thead>\n",
       "    <tr style=\"text-align: right;\">\n",
       "      <th></th>\n",
       "      <th>Income</th>\n",
       "      <th>Age</th>\n",
       "      <th>Experience</th>\n",
       "      <th>Married/Single</th>\n",
       "      <th>House_Ownership</th>\n",
       "      <th>Car_Ownership</th>\n",
       "      <th>Profession</th>\n",
       "      <th>CITY</th>\n",
       "      <th>STATE</th>\n",
       "      <th>CURRENT_JOB_YRS</th>\n",
       "      <th>CURRENT_HOUSE_YRS</th>\n",
       "    </tr>\n",
       "  </thead>\n",
       "  <tbody>\n",
       "    <tr>\n",
       "      <th>0</th>\n",
       "      <td>7393090</td>\n",
       "      <td>59</td>\n",
       "      <td>19</td>\n",
       "      <td>single</td>\n",
       "      <td>rented</td>\n",
       "      <td>no</td>\n",
       "      <td>Geologist</td>\n",
       "      <td>Malda</td>\n",
       "      <td>West Bengal</td>\n",
       "      <td>4</td>\n",
       "      <td>13</td>\n",
       "    </tr>\n",
       "    <tr>\n",
       "      <th>1</th>\n",
       "      <td>1215004</td>\n",
       "      <td>25</td>\n",
       "      <td>5</td>\n",
       "      <td>single</td>\n",
       "      <td>rented</td>\n",
       "      <td>no</td>\n",
       "      <td>Firefighter</td>\n",
       "      <td>Jalna</td>\n",
       "      <td>Maharashtra</td>\n",
       "      <td>5</td>\n",
       "      <td>10</td>\n",
       "    </tr>\n",
       "    <tr>\n",
       "      <th>2</th>\n",
       "      <td>8901342</td>\n",
       "      <td>50</td>\n",
       "      <td>12</td>\n",
       "      <td>single</td>\n",
       "      <td>rented</td>\n",
       "      <td>no</td>\n",
       "      <td>Lawyer</td>\n",
       "      <td>Thane</td>\n",
       "      <td>Maharashtra</td>\n",
       "      <td>9</td>\n",
       "      <td>14</td>\n",
       "    </tr>\n",
       "    <tr>\n",
       "      <th>3</th>\n",
       "      <td>1944421</td>\n",
       "      <td>49</td>\n",
       "      <td>9</td>\n",
       "      <td>married</td>\n",
       "      <td>rented</td>\n",
       "      <td>yes</td>\n",
       "      <td>Analyst</td>\n",
       "      <td>Latur</td>\n",
       "      <td>Maharashtra</td>\n",
       "      <td>3</td>\n",
       "      <td>12</td>\n",
       "    </tr>\n",
       "    <tr>\n",
       "      <th>4</th>\n",
       "      <td>13429</td>\n",
       "      <td>25</td>\n",
       "      <td>18</td>\n",
       "      <td>single</td>\n",
       "      <td>rented</td>\n",
       "      <td>yes</td>\n",
       "      <td>Comedian</td>\n",
       "      <td>Berhampore</td>\n",
       "      <td>West Bengal</td>\n",
       "      <td>13</td>\n",
       "      <td>11</td>\n",
       "    </tr>\n",
       "  </tbody>\n",
       "</table>\n",
       "</div>"
      ],
      "text/plain": [
       "    Income  Age  Experience Married/Single House_Ownership Car_Ownership  \\\n",
       "0  7393090   59          19         single          rented            no   \n",
       "1  1215004   25           5         single          rented            no   \n",
       "2  8901342   50          12         single          rented            no   \n",
       "3  1944421   49           9        married          rented           yes   \n",
       "4    13429   25          18         single          rented           yes   \n",
       "\n",
       "    Profession        CITY        STATE  CURRENT_JOB_YRS  CURRENT_HOUSE_YRS  \n",
       "0    Geologist       Malda  West Bengal                4                 13  \n",
       "1  Firefighter       Jalna  Maharashtra                5                 10  \n",
       "2       Lawyer       Thane  Maharashtra                9                 14  \n",
       "3      Analyst       Latur  Maharashtra                3                 12  \n",
       "4     Comedian  Berhampore  West Bengal               13                 11  "
      ]
     },
     "execution_count": 11,
     "metadata": {},
     "output_type": "execute_result"
    }
   ],
   "source": [
    "test_df= test.drop(columns=[\"ID\"], axis=1)\n",
    "test_df.head()"
   ]
  },
  {
   "cell_type": "markdown",
   "id": "3566420c",
   "metadata": {},
   "source": [
    "# Identifying Numeric and Categorical Columns"
   ]
  },
  {
   "cell_type": "code",
   "execution_count": 12,
   "id": "b7de3f67",
   "metadata": {},
   "outputs": [
    {
     "name": "stdout",
     "output_type": "stream",
     "text": [
      "<class 'pandas.core.frame.DataFrame'>\n",
      "RangeIndex: 252000 entries, 0 to 251999\n",
      "Data columns (total 9 columns):\n",
      " #   Column             Non-Null Count   Dtype \n",
      "---  ------             --------------   ----- \n",
      " 0   Income             252000 non-null  int64 \n",
      " 1   Age                252000 non-null  int64 \n",
      " 2   Experience         252000 non-null  int64 \n",
      " 3   Married/Single     252000 non-null  object\n",
      " 4   House_Ownership    252000 non-null  object\n",
      " 5   Car_Ownership      252000 non-null  object\n",
      " 6   Profession         252000 non-null  object\n",
      " 7   CURRENT_JOB_YRS    252000 non-null  int64 \n",
      " 8   CURRENT_HOUSE_YRS  252000 non-null  int64 \n",
      "dtypes: int64(5), object(4)\n",
      "memory usage: 17.3+ MB\n"
     ]
    }
   ],
   "source": [
    "input_df.info()"
   ]
  },
  {
   "cell_type": "code",
   "execution_count": 13,
   "id": "60eb79a0",
   "metadata": {},
   "outputs": [
    {
     "data": {
      "text/plain": [
       "['Income', 'Age', 'Experience', 'CURRENT_JOB_YRS', 'CURRENT_HOUSE_YRS']"
      ]
     },
     "execution_count": 13,
     "metadata": {},
     "output_type": "execute_result"
    }
   ],
   "source": [
    "numeric_cols= input_df.select_dtypes(include=[\"int64\"]).columns.tolist()\n",
    "numeric_cols"
   ]
  },
  {
   "cell_type": "code",
   "execution_count": 14,
   "id": "d647b493",
   "metadata": {},
   "outputs": [
    {
     "data": {
      "text/plain": [
       "['Married/Single', 'House_Ownership', 'Car_Ownership', 'Profession']"
      ]
     },
     "execution_count": 14,
     "metadata": {},
     "output_type": "execute_result"
    }
   ],
   "source": [
    "categorical_cols= input_df.select_dtypes(include=[\"object\"]).columns.tolist()\n",
    "categorical_cols"
   ]
  },
  {
   "cell_type": "code",
   "execution_count": 15,
   "id": "112ef1de",
   "metadata": {},
   "outputs": [
    {
     "data": {
      "text/plain": [
       "array(['rented', 'norent_noown', 'owned'], dtype=object)"
      ]
     },
     "execution_count": 15,
     "metadata": {},
     "output_type": "execute_result"
    }
   ],
   "source": [
    "input_df[\"House_Ownership\"].unique()"
   ]
  },
  {
   "cell_type": "code",
   "execution_count": 16,
   "id": "1b8aa819",
   "metadata": {},
   "outputs": [
    {
     "data": {
      "text/plain": [
       "array(['no', 'yes'], dtype=object)"
      ]
     },
     "execution_count": 16,
     "metadata": {},
     "output_type": "execute_result"
    }
   ],
   "source": [
    "input_df[\"Car_Ownership\"].unique()"
   ]
  },
  {
   "cell_type": "code",
   "execution_count": 17,
   "id": "3e68f65b",
   "metadata": {},
   "outputs": [
    {
     "data": {
      "text/plain": [
       "array(['single', 'married'], dtype=object)"
      ]
     },
     "execution_count": 17,
     "metadata": {},
     "output_type": "execute_result"
    }
   ],
   "source": [
    "input_df[\"Married/Single\"].unique()"
   ]
  },
  {
   "cell_type": "markdown",
   "id": "c07f2344",
   "metadata": {},
   "source": [
    "# Scaling Numeric Columns"
   ]
  },
  {
   "cell_type": "code",
   "execution_count": 18,
   "id": "80fcecd3",
   "metadata": {},
   "outputs": [],
   "source": [
    "from sklearn.preprocessing import MinMaxScaler"
   ]
  },
  {
   "cell_type": "code",
   "execution_count": 19,
   "id": "fbd3340c",
   "metadata": {},
   "outputs": [],
   "source": [
    "scaler= MinMaxScaler()"
   ]
  },
  {
   "cell_type": "code",
   "execution_count": 20,
   "id": "997c0431",
   "metadata": {},
   "outputs": [
    {
     "data": {
      "text/plain": [
       "MinMaxScaler()"
      ]
     },
     "execution_count": 20,
     "metadata": {},
     "output_type": "execute_result"
    }
   ],
   "source": [
    "scaler.fit(input_df[numeric_cols])"
   ]
  },
  {
   "cell_type": "code",
   "execution_count": 21,
   "id": "908ec09f",
   "metadata": {},
   "outputs": [],
   "source": [
    "input_df[numeric_cols]= scaler.transform(input_df[numeric_cols])"
   ]
  },
  {
   "cell_type": "code",
   "execution_count": 22,
   "id": "a4b8e6b6",
   "metadata": {},
   "outputs": [
    {
     "data": {
      "text/html": [
       "<div>\n",
       "<style scoped>\n",
       "    .dataframe tbody tr th:only-of-type {\n",
       "        vertical-align: middle;\n",
       "    }\n",
       "\n",
       "    .dataframe tbody tr th {\n",
       "        vertical-align: top;\n",
       "    }\n",
       "\n",
       "    .dataframe thead th {\n",
       "        text-align: right;\n",
       "    }\n",
       "</style>\n",
       "<table border=\"1\" class=\"dataframe\">\n",
       "  <thead>\n",
       "    <tr style=\"text-align: right;\">\n",
       "      <th></th>\n",
       "      <th>Income</th>\n",
       "      <th>Age</th>\n",
       "      <th>Experience</th>\n",
       "      <th>CURRENT_JOB_YRS</th>\n",
       "      <th>CURRENT_HOUSE_YRS</th>\n",
       "    </tr>\n",
       "  </thead>\n",
       "  <tbody>\n",
       "    <tr>\n",
       "      <th>count</th>\n",
       "      <td>252000.000000</td>\n",
       "      <td>252000.000000</td>\n",
       "      <td>252000.000000</td>\n",
       "      <td>252000.000000</td>\n",
       "      <td>252000.000000</td>\n",
       "    </tr>\n",
       "    <tr>\n",
       "      <th>mean</th>\n",
       "      <td>0.499198</td>\n",
       "      <td>0.499208</td>\n",
       "      <td>0.504222</td>\n",
       "      <td>0.452420</td>\n",
       "      <td>0.499448</td>\n",
       "    </tr>\n",
       "    <tr>\n",
       "      <th>std</th>\n",
       "      <td>0.288130</td>\n",
       "      <td>0.294204</td>\n",
       "      <td>0.300129</td>\n",
       "      <td>0.260504</td>\n",
       "      <td>0.349759</td>\n",
       "    </tr>\n",
       "    <tr>\n",
       "      <th>min</th>\n",
       "      <td>0.000000</td>\n",
       "      <td>0.000000</td>\n",
       "      <td>0.000000</td>\n",
       "      <td>0.000000</td>\n",
       "      <td>0.000000</td>\n",
       "    </tr>\n",
       "    <tr>\n",
       "      <th>25%</th>\n",
       "      <td>0.249529</td>\n",
       "      <td>0.241379</td>\n",
       "      <td>0.250000</td>\n",
       "      <td>0.214286</td>\n",
       "      <td>0.250000</td>\n",
       "    </tr>\n",
       "    <tr>\n",
       "      <th>50%</th>\n",
       "      <td>0.499557</td>\n",
       "      <td>0.500000</td>\n",
       "      <td>0.500000</td>\n",
       "      <td>0.428571</td>\n",
       "      <td>0.500000</td>\n",
       "    </tr>\n",
       "    <tr>\n",
       "      <th>75%</th>\n",
       "      <td>0.747495</td>\n",
       "      <td>0.758621</td>\n",
       "      <td>0.750000</td>\n",
       "      <td>0.642857</td>\n",
       "      <td>0.750000</td>\n",
       "    </tr>\n",
       "    <tr>\n",
       "      <th>max</th>\n",
       "      <td>1.000000</td>\n",
       "      <td>1.000000</td>\n",
       "      <td>1.000000</td>\n",
       "      <td>1.000000</td>\n",
       "      <td>1.000000</td>\n",
       "    </tr>\n",
       "  </tbody>\n",
       "</table>\n",
       "</div>"
      ],
      "text/plain": [
       "              Income            Age     Experience  CURRENT_JOB_YRS  \\\n",
       "count  252000.000000  252000.000000  252000.000000    252000.000000   \n",
       "mean        0.499198       0.499208       0.504222         0.452420   \n",
       "std         0.288130       0.294204       0.300129         0.260504   \n",
       "min         0.000000       0.000000       0.000000         0.000000   \n",
       "25%         0.249529       0.241379       0.250000         0.214286   \n",
       "50%         0.499557       0.500000       0.500000         0.428571   \n",
       "75%         0.747495       0.758621       0.750000         0.642857   \n",
       "max         1.000000       1.000000       1.000000         1.000000   \n",
       "\n",
       "       CURRENT_HOUSE_YRS  \n",
       "count      252000.000000  \n",
       "mean            0.499448  \n",
       "std             0.349759  \n",
       "min             0.000000  \n",
       "25%             0.250000  \n",
       "50%             0.500000  \n",
       "75%             0.750000  \n",
       "max             1.000000  "
      ]
     },
     "execution_count": 22,
     "metadata": {},
     "output_type": "execute_result"
    }
   ],
   "source": [
    "input_df[numeric_cols].describe()"
   ]
  },
  {
   "cell_type": "markdown",
   "id": "92f583f4",
   "metadata": {},
   "source": [
    "# Encode Categorical Columns"
   ]
  },
  {
   "cell_type": "code",
   "execution_count": 23,
   "id": "31b4d1df",
   "metadata": {},
   "outputs": [
    {
     "data": {
      "text/html": [
       "<div>\n",
       "<style scoped>\n",
       "    .dataframe tbody tr th:only-of-type {\n",
       "        vertical-align: middle;\n",
       "    }\n",
       "\n",
       "    .dataframe tbody tr th {\n",
       "        vertical-align: top;\n",
       "    }\n",
       "\n",
       "    .dataframe thead th {\n",
       "        text-align: right;\n",
       "    }\n",
       "</style>\n",
       "<table border=\"1\" class=\"dataframe\">\n",
       "  <thead>\n",
       "    <tr style=\"text-align: right;\">\n",
       "      <th></th>\n",
       "      <th>Married/Single</th>\n",
       "      <th>House_Ownership</th>\n",
       "      <th>Car_Ownership</th>\n",
       "      <th>Profession</th>\n",
       "    </tr>\n",
       "  </thead>\n",
       "  <tbody>\n",
       "    <tr>\n",
       "      <th>0</th>\n",
       "      <td>single</td>\n",
       "      <td>rented</td>\n",
       "      <td>no</td>\n",
       "      <td>Mechanical_engineer</td>\n",
       "    </tr>\n",
       "    <tr>\n",
       "      <th>1</th>\n",
       "      <td>single</td>\n",
       "      <td>rented</td>\n",
       "      <td>no</td>\n",
       "      <td>Software_Developer</td>\n",
       "    </tr>\n",
       "    <tr>\n",
       "      <th>2</th>\n",
       "      <td>married</td>\n",
       "      <td>rented</td>\n",
       "      <td>no</td>\n",
       "      <td>Technical_writer</td>\n",
       "    </tr>\n",
       "    <tr>\n",
       "      <th>3</th>\n",
       "      <td>single</td>\n",
       "      <td>rented</td>\n",
       "      <td>yes</td>\n",
       "      <td>Software_Developer</td>\n",
       "    </tr>\n",
       "    <tr>\n",
       "      <th>4</th>\n",
       "      <td>single</td>\n",
       "      <td>rented</td>\n",
       "      <td>no</td>\n",
       "      <td>Civil_servant</td>\n",
       "    </tr>\n",
       "  </tbody>\n",
       "</table>\n",
       "</div>"
      ],
      "text/plain": [
       "  Married/Single House_Ownership Car_Ownership           Profession\n",
       "0         single          rented            no  Mechanical_engineer\n",
       "1         single          rented            no   Software_Developer\n",
       "2        married          rented            no     Technical_writer\n",
       "3         single          rented           yes   Software_Developer\n",
       "4         single          rented            no        Civil_servant"
      ]
     },
     "execution_count": 23,
     "metadata": {},
     "output_type": "execute_result"
    }
   ],
   "source": [
    "input_df[categorical_cols].head(5)"
   ]
  },
  {
   "cell_type": "code",
   "execution_count": 24,
   "id": "fce07148",
   "metadata": {},
   "outputs": [],
   "source": [
    "from sklearn.preprocessing import OneHotEncoder"
   ]
  },
  {
   "cell_type": "code",
   "execution_count": 25,
   "id": "c8b1eeb4",
   "metadata": {},
   "outputs": [],
   "source": [
    "encoder= OneHotEncoder(sparse= False, handle_unknown= \"ignore\")"
   ]
  },
  {
   "cell_type": "code",
   "execution_count": 26,
   "id": "2efbaa2b",
   "metadata": {},
   "outputs": [
    {
     "data": {
      "text/plain": [
       "OneHotEncoder(handle_unknown='ignore', sparse=False)"
      ]
     },
     "execution_count": 26,
     "metadata": {},
     "output_type": "execute_result"
    }
   ],
   "source": [
    "encoder.fit(input_df[categorical_cols])"
   ]
  },
  {
   "cell_type": "code",
   "execution_count": 28,
   "id": "4794b1ed",
   "metadata": {},
   "outputs": [
    {
     "data": {
      "text/plain": [
       "58"
      ]
     },
     "execution_count": 28,
     "metadata": {},
     "output_type": "execute_result"
    }
   ],
   "source": [
    "encoded_cols= list(encoder.get_feature_names(categorical_cols))\n",
    "len(encoded_cols)"
   ]
  },
  {
   "cell_type": "code",
   "execution_count": 29,
   "id": "63f70434",
   "metadata": {},
   "outputs": [
    {
     "data": {
      "text/html": [
       "<div>\n",
       "<style scoped>\n",
       "    .dataframe tbody tr th:only-of-type {\n",
       "        vertical-align: middle;\n",
       "    }\n",
       "\n",
       "    .dataframe tbody tr th {\n",
       "        vertical-align: top;\n",
       "    }\n",
       "\n",
       "    .dataframe thead th {\n",
       "        text-align: right;\n",
       "    }\n",
       "</style>\n",
       "<table border=\"1\" class=\"dataframe\">\n",
       "  <thead>\n",
       "    <tr style=\"text-align: right;\">\n",
       "      <th></th>\n",
       "      <th>Married/Single_married</th>\n",
       "      <th>Married/Single_single</th>\n",
       "      <th>House_Ownership_norent_noown</th>\n",
       "      <th>House_Ownership_owned</th>\n",
       "      <th>House_Ownership_rented</th>\n",
       "      <th>Car_Ownership_no</th>\n",
       "      <th>Car_Ownership_yes</th>\n",
       "      <th>Profession_Air_traffic_controller</th>\n",
       "      <th>Profession_Analyst</th>\n",
       "      <th>Profession_Architect</th>\n",
       "      <th>...</th>\n",
       "      <th>Profession_Scientist</th>\n",
       "      <th>Profession_Secretary</th>\n",
       "      <th>Profession_Software_Developer</th>\n",
       "      <th>Profession_Statistician</th>\n",
       "      <th>Profession_Surgeon</th>\n",
       "      <th>Profession_Surveyor</th>\n",
       "      <th>Profession_Technical_writer</th>\n",
       "      <th>Profession_Technician</th>\n",
       "      <th>Profession_Technology_specialist</th>\n",
       "      <th>Profession_Web_designer</th>\n",
       "    </tr>\n",
       "  </thead>\n",
       "  <tbody>\n",
       "    <tr>\n",
       "      <th>0</th>\n",
       "      <td>0.0</td>\n",
       "      <td>1.0</td>\n",
       "      <td>0.0</td>\n",
       "      <td>0.0</td>\n",
       "      <td>1.0</td>\n",
       "      <td>1.0</td>\n",
       "      <td>0.0</td>\n",
       "      <td>0.0</td>\n",
       "      <td>0.0</td>\n",
       "      <td>0.0</td>\n",
       "      <td>...</td>\n",
       "      <td>0.0</td>\n",
       "      <td>0.0</td>\n",
       "      <td>0.0</td>\n",
       "      <td>0.0</td>\n",
       "      <td>0.0</td>\n",
       "      <td>0.0</td>\n",
       "      <td>0.0</td>\n",
       "      <td>0.0</td>\n",
       "      <td>0.0</td>\n",
       "      <td>0.0</td>\n",
       "    </tr>\n",
       "    <tr>\n",
       "      <th>1</th>\n",
       "      <td>0.0</td>\n",
       "      <td>1.0</td>\n",
       "      <td>0.0</td>\n",
       "      <td>0.0</td>\n",
       "      <td>1.0</td>\n",
       "      <td>1.0</td>\n",
       "      <td>0.0</td>\n",
       "      <td>0.0</td>\n",
       "      <td>0.0</td>\n",
       "      <td>0.0</td>\n",
       "      <td>...</td>\n",
       "      <td>0.0</td>\n",
       "      <td>0.0</td>\n",
       "      <td>1.0</td>\n",
       "      <td>0.0</td>\n",
       "      <td>0.0</td>\n",
       "      <td>0.0</td>\n",
       "      <td>0.0</td>\n",
       "      <td>0.0</td>\n",
       "      <td>0.0</td>\n",
       "      <td>0.0</td>\n",
       "    </tr>\n",
       "    <tr>\n",
       "      <th>2</th>\n",
       "      <td>1.0</td>\n",
       "      <td>0.0</td>\n",
       "      <td>0.0</td>\n",
       "      <td>0.0</td>\n",
       "      <td>1.0</td>\n",
       "      <td>1.0</td>\n",
       "      <td>0.0</td>\n",
       "      <td>0.0</td>\n",
       "      <td>0.0</td>\n",
       "      <td>0.0</td>\n",
       "      <td>...</td>\n",
       "      <td>0.0</td>\n",
       "      <td>0.0</td>\n",
       "      <td>0.0</td>\n",
       "      <td>0.0</td>\n",
       "      <td>0.0</td>\n",
       "      <td>0.0</td>\n",
       "      <td>1.0</td>\n",
       "      <td>0.0</td>\n",
       "      <td>0.0</td>\n",
       "      <td>0.0</td>\n",
       "    </tr>\n",
       "    <tr>\n",
       "      <th>3</th>\n",
       "      <td>0.0</td>\n",
       "      <td>1.0</td>\n",
       "      <td>0.0</td>\n",
       "      <td>0.0</td>\n",
       "      <td>1.0</td>\n",
       "      <td>0.0</td>\n",
       "      <td>1.0</td>\n",
       "      <td>0.0</td>\n",
       "      <td>0.0</td>\n",
       "      <td>0.0</td>\n",
       "      <td>...</td>\n",
       "      <td>0.0</td>\n",
       "      <td>0.0</td>\n",
       "      <td>1.0</td>\n",
       "      <td>0.0</td>\n",
       "      <td>0.0</td>\n",
       "      <td>0.0</td>\n",
       "      <td>0.0</td>\n",
       "      <td>0.0</td>\n",
       "      <td>0.0</td>\n",
       "      <td>0.0</td>\n",
       "    </tr>\n",
       "    <tr>\n",
       "      <th>4</th>\n",
       "      <td>0.0</td>\n",
       "      <td>1.0</td>\n",
       "      <td>0.0</td>\n",
       "      <td>0.0</td>\n",
       "      <td>1.0</td>\n",
       "      <td>1.0</td>\n",
       "      <td>0.0</td>\n",
       "      <td>0.0</td>\n",
       "      <td>0.0</td>\n",
       "      <td>0.0</td>\n",
       "      <td>...</td>\n",
       "      <td>0.0</td>\n",
       "      <td>0.0</td>\n",
       "      <td>0.0</td>\n",
       "      <td>0.0</td>\n",
       "      <td>0.0</td>\n",
       "      <td>0.0</td>\n",
       "      <td>0.0</td>\n",
       "      <td>0.0</td>\n",
       "      <td>0.0</td>\n",
       "      <td>0.0</td>\n",
       "    </tr>\n",
       "  </tbody>\n",
       "</table>\n",
       "<p>5 rows × 58 columns</p>\n",
       "</div>"
      ],
      "text/plain": [
       "   Married/Single_married  Married/Single_single  \\\n",
       "0                     0.0                    1.0   \n",
       "1                     0.0                    1.0   \n",
       "2                     1.0                    0.0   \n",
       "3                     0.0                    1.0   \n",
       "4                     0.0                    1.0   \n",
       "\n",
       "   House_Ownership_norent_noown  House_Ownership_owned  \\\n",
       "0                           0.0                    0.0   \n",
       "1                           0.0                    0.0   \n",
       "2                           0.0                    0.0   \n",
       "3                           0.0                    0.0   \n",
       "4                           0.0                    0.0   \n",
       "\n",
       "   House_Ownership_rented  Car_Ownership_no  Car_Ownership_yes  \\\n",
       "0                     1.0               1.0                0.0   \n",
       "1                     1.0               1.0                0.0   \n",
       "2                     1.0               1.0                0.0   \n",
       "3                     1.0               0.0                1.0   \n",
       "4                     1.0               1.0                0.0   \n",
       "\n",
       "   Profession_Air_traffic_controller  Profession_Analyst  \\\n",
       "0                                0.0                 0.0   \n",
       "1                                0.0                 0.0   \n",
       "2                                0.0                 0.0   \n",
       "3                                0.0                 0.0   \n",
       "4                                0.0                 0.0   \n",
       "\n",
       "   Profession_Architect  ...  Profession_Scientist  Profession_Secretary  \\\n",
       "0                   0.0  ...                   0.0                   0.0   \n",
       "1                   0.0  ...                   0.0                   0.0   \n",
       "2                   0.0  ...                   0.0                   0.0   \n",
       "3                   0.0  ...                   0.0                   0.0   \n",
       "4                   0.0  ...                   0.0                   0.0   \n",
       "\n",
       "   Profession_Software_Developer  Profession_Statistician  Profession_Surgeon  \\\n",
       "0                            0.0                      0.0                 0.0   \n",
       "1                            1.0                      0.0                 0.0   \n",
       "2                            0.0                      0.0                 0.0   \n",
       "3                            1.0                      0.0                 0.0   \n",
       "4                            0.0                      0.0                 0.0   \n",
       "\n",
       "   Profession_Surveyor  Profession_Technical_writer  Profession_Technician  \\\n",
       "0                  0.0                          0.0                    0.0   \n",
       "1                  0.0                          0.0                    0.0   \n",
       "2                  0.0                          1.0                    0.0   \n",
       "3                  0.0                          0.0                    0.0   \n",
       "4                  0.0                          0.0                    0.0   \n",
       "\n",
       "   Profession_Technology_specialist  Profession_Web_designer  \n",
       "0                               0.0                      0.0  \n",
       "1                               0.0                      0.0  \n",
       "2                               0.0                      0.0  \n",
       "3                               0.0                      0.0  \n",
       "4                               0.0                      0.0  \n",
       "\n",
       "[5 rows x 58 columns]"
      ]
     },
     "execution_count": 29,
     "metadata": {},
     "output_type": "execute_result"
    }
   ],
   "source": [
    "input_df[encoded_cols]= encoder.transform(input_df[categorical_cols])\n",
    "input_df[encoded_cols].head()"
   ]
  },
  {
   "cell_type": "code",
   "execution_count": 30,
   "id": "20d27b47",
   "metadata": {},
   "outputs": [
    {
     "data": {
      "text/html": [
       "<div>\n",
       "<style scoped>\n",
       "    .dataframe tbody tr th:only-of-type {\n",
       "        vertical-align: middle;\n",
       "    }\n",
       "\n",
       "    .dataframe tbody tr th {\n",
       "        vertical-align: top;\n",
       "    }\n",
       "\n",
       "    .dataframe thead th {\n",
       "        text-align: right;\n",
       "    }\n",
       "</style>\n",
       "<table border=\"1\" class=\"dataframe\">\n",
       "  <thead>\n",
       "    <tr style=\"text-align: right;\">\n",
       "      <th></th>\n",
       "      <th>Income</th>\n",
       "      <th>Age</th>\n",
       "      <th>Experience</th>\n",
       "      <th>Married/Single</th>\n",
       "      <th>House_Ownership</th>\n",
       "      <th>Car_Ownership</th>\n",
       "      <th>Profession</th>\n",
       "      <th>CURRENT_JOB_YRS</th>\n",
       "      <th>CURRENT_HOUSE_YRS</th>\n",
       "      <th>Married/Single_married</th>\n",
       "      <th>...</th>\n",
       "      <th>Profession_Scientist</th>\n",
       "      <th>Profession_Secretary</th>\n",
       "      <th>Profession_Software_Developer</th>\n",
       "      <th>Profession_Statistician</th>\n",
       "      <th>Profession_Surgeon</th>\n",
       "      <th>Profession_Surveyor</th>\n",
       "      <th>Profession_Technical_writer</th>\n",
       "      <th>Profession_Technician</th>\n",
       "      <th>Profession_Technology_specialist</th>\n",
       "      <th>Profession_Web_designer</th>\n",
       "    </tr>\n",
       "  </thead>\n",
       "  <tbody>\n",
       "    <tr>\n",
       "      <th>0</th>\n",
       "      <td>0.129487</td>\n",
       "      <td>0.034483</td>\n",
       "      <td>0.15</td>\n",
       "      <td>single</td>\n",
       "      <td>rented</td>\n",
       "      <td>no</td>\n",
       "      <td>Mechanical_engineer</td>\n",
       "      <td>0.214286</td>\n",
       "      <td>0.75</td>\n",
       "      <td>0.0</td>\n",
       "      <td>...</td>\n",
       "      <td>0.0</td>\n",
       "      <td>0.0</td>\n",
       "      <td>0.0</td>\n",
       "      <td>0.0</td>\n",
       "      <td>0.0</td>\n",
       "      <td>0.0</td>\n",
       "      <td>0.0</td>\n",
       "      <td>0.0</td>\n",
       "      <td>0.0</td>\n",
       "      <td>0.0</td>\n",
       "    </tr>\n",
       "    <tr>\n",
       "      <th>1</th>\n",
       "      <td>0.757206</td>\n",
       "      <td>0.327586</td>\n",
       "      <td>0.50</td>\n",
       "      <td>single</td>\n",
       "      <td>rented</td>\n",
       "      <td>no</td>\n",
       "      <td>Software_Developer</td>\n",
       "      <td>0.642857</td>\n",
       "      <td>0.75</td>\n",
       "      <td>0.0</td>\n",
       "      <td>...</td>\n",
       "      <td>0.0</td>\n",
       "      <td>0.0</td>\n",
       "      <td>1.0</td>\n",
       "      <td>0.0</td>\n",
       "      <td>0.0</td>\n",
       "      <td>0.0</td>\n",
       "      <td>0.0</td>\n",
       "      <td>0.0</td>\n",
       "      <td>0.0</td>\n",
       "      <td>0.0</td>\n",
       "    </tr>\n",
       "    <tr>\n",
       "      <th>2</th>\n",
       "      <td>0.398564</td>\n",
       "      <td>0.775862</td>\n",
       "      <td>0.20</td>\n",
       "      <td>married</td>\n",
       "      <td>rented</td>\n",
       "      <td>no</td>\n",
       "      <td>Technical_writer</td>\n",
       "      <td>0.285714</td>\n",
       "      <td>0.00</td>\n",
       "      <td>1.0</td>\n",
       "      <td>...</td>\n",
       "      <td>0.0</td>\n",
       "      <td>0.0</td>\n",
       "      <td>0.0</td>\n",
       "      <td>0.0</td>\n",
       "      <td>0.0</td>\n",
       "      <td>0.0</td>\n",
       "      <td>1.0</td>\n",
       "      <td>0.0</td>\n",
       "      <td>0.0</td>\n",
       "      <td>0.0</td>\n",
       "    </tr>\n",
       "    <tr>\n",
       "      <th>3</th>\n",
       "      <td>0.625263</td>\n",
       "      <td>0.344828</td>\n",
       "      <td>0.10</td>\n",
       "      <td>single</td>\n",
       "      <td>rented</td>\n",
       "      <td>yes</td>\n",
       "      <td>Software_Developer</td>\n",
       "      <td>0.142857</td>\n",
       "      <td>0.50</td>\n",
       "      <td>0.0</td>\n",
       "      <td>...</td>\n",
       "      <td>0.0</td>\n",
       "      <td>0.0</td>\n",
       "      <td>1.0</td>\n",
       "      <td>0.0</td>\n",
       "      <td>0.0</td>\n",
       "      <td>0.0</td>\n",
       "      <td>0.0</td>\n",
       "      <td>0.0</td>\n",
       "      <td>0.0</td>\n",
       "      <td>0.0</td>\n",
       "    </tr>\n",
       "    <tr>\n",
       "      <th>4</th>\n",
       "      <td>0.576454</td>\n",
       "      <td>0.448276</td>\n",
       "      <td>0.55</td>\n",
       "      <td>single</td>\n",
       "      <td>rented</td>\n",
       "      <td>no</td>\n",
       "      <td>Civil_servant</td>\n",
       "      <td>0.214286</td>\n",
       "      <td>1.00</td>\n",
       "      <td>0.0</td>\n",
       "      <td>...</td>\n",
       "      <td>0.0</td>\n",
       "      <td>0.0</td>\n",
       "      <td>0.0</td>\n",
       "      <td>0.0</td>\n",
       "      <td>0.0</td>\n",
       "      <td>0.0</td>\n",
       "      <td>0.0</td>\n",
       "      <td>0.0</td>\n",
       "      <td>0.0</td>\n",
       "      <td>0.0</td>\n",
       "    </tr>\n",
       "  </tbody>\n",
       "</table>\n",
       "<p>5 rows × 67 columns</p>\n",
       "</div>"
      ],
      "text/plain": [
       "     Income       Age  Experience Married/Single House_Ownership  \\\n",
       "0  0.129487  0.034483        0.15         single          rented   \n",
       "1  0.757206  0.327586        0.50         single          rented   \n",
       "2  0.398564  0.775862        0.20        married          rented   \n",
       "3  0.625263  0.344828        0.10         single          rented   \n",
       "4  0.576454  0.448276        0.55         single          rented   \n",
       "\n",
       "  Car_Ownership           Profession  CURRENT_JOB_YRS  CURRENT_HOUSE_YRS  \\\n",
       "0            no  Mechanical_engineer         0.214286               0.75   \n",
       "1            no   Software_Developer         0.642857               0.75   \n",
       "2            no     Technical_writer         0.285714               0.00   \n",
       "3           yes   Software_Developer         0.142857               0.50   \n",
       "4            no        Civil_servant         0.214286               1.00   \n",
       "\n",
       "   Married/Single_married  ...  Profession_Scientist  Profession_Secretary  \\\n",
       "0                     0.0  ...                   0.0                   0.0   \n",
       "1                     0.0  ...                   0.0                   0.0   \n",
       "2                     1.0  ...                   0.0                   0.0   \n",
       "3                     0.0  ...                   0.0                   0.0   \n",
       "4                     0.0  ...                   0.0                   0.0   \n",
       "\n",
       "   Profession_Software_Developer  Profession_Statistician  Profession_Surgeon  \\\n",
       "0                            0.0                      0.0                 0.0   \n",
       "1                            1.0                      0.0                 0.0   \n",
       "2                            0.0                      0.0                 0.0   \n",
       "3                            1.0                      0.0                 0.0   \n",
       "4                            0.0                      0.0                 0.0   \n",
       "\n",
       "   Profession_Surveyor  Profession_Technical_writer  Profession_Technician  \\\n",
       "0                  0.0                          0.0                    0.0   \n",
       "1                  0.0                          0.0                    0.0   \n",
       "2                  0.0                          1.0                    0.0   \n",
       "3                  0.0                          0.0                    0.0   \n",
       "4                  0.0                          0.0                    0.0   \n",
       "\n",
       "   Profession_Technology_specialist  Profession_Web_designer  \n",
       "0                               0.0                      0.0  \n",
       "1                               0.0                      0.0  \n",
       "2                               0.0                      0.0  \n",
       "3                               0.0                      0.0  \n",
       "4                               0.0                      0.0  \n",
       "\n",
       "[5 rows x 67 columns]"
      ]
     },
     "execution_count": 30,
     "metadata": {},
     "output_type": "execute_result"
    }
   ],
   "source": [
    "input_df.head()"
   ]
  },
  {
   "cell_type": "code",
   "execution_count": 31,
   "id": "da5ad092",
   "metadata": {},
   "outputs": [
    {
     "data": {
      "text/plain": [
       "(252000, 67)"
      ]
     },
     "execution_count": 31,
     "metadata": {},
     "output_type": "execute_result"
    }
   ],
   "source": [
    "input_df.shape"
   ]
  },
  {
   "cell_type": "markdown",
   "id": "bcca3bae",
   "metadata": {},
   "source": [
    "# Splitting Data"
   ]
  },
  {
   "cell_type": "code",
   "execution_count": 32,
   "id": "1eaa1bc0",
   "metadata": {},
   "outputs": [],
   "source": [
    "from sklearn.model_selection import train_test_split"
   ]
  },
  {
   "cell_type": "code",
   "execution_count": 33,
   "id": "7fc1b0c8",
   "metadata": {},
   "outputs": [],
   "source": [
    "train_inputs, val_inputs, train_targets, val_targets= train_test_split(input_df[numeric_cols + encoded_cols],\n",
    "                 target_df,\n",
    "                 test_size= 0.25,\n",
    "                 random_state= 20)"
   ]
  },
  {
   "cell_type": "code",
   "execution_count": 34,
   "id": "eccc2e79",
   "metadata": {},
   "outputs": [
    {
     "data": {
      "text/plain": [
       "(189000, 63)"
      ]
     },
     "execution_count": 34,
     "metadata": {},
     "output_type": "execute_result"
    }
   ],
   "source": [
    "train_inputs.shape"
   ]
  },
  {
   "cell_type": "code",
   "execution_count": 35,
   "id": "6b7af58b",
   "metadata": {},
   "outputs": [
    {
     "data": {
      "text/plain": [
       "(63000, 63)"
      ]
     },
     "execution_count": 35,
     "metadata": {},
     "output_type": "execute_result"
    }
   ],
   "source": [
    "val_inputs.shape"
   ]
  },
  {
   "cell_type": "code",
   "execution_count": 36,
   "id": "195d5cfd",
   "metadata": {},
   "outputs": [
    {
     "data": {
      "text/plain": [
       "(63000,)"
      ]
     },
     "execution_count": 36,
     "metadata": {},
     "output_type": "execute_result"
    }
   ],
   "source": [
    "val_targets.shape"
   ]
  },
  {
   "cell_type": "code",
   "execution_count": 37,
   "id": "5a6dee43",
   "metadata": {},
   "outputs": [
    {
     "data": {
      "text/plain": [
       "(189000,)"
      ]
     },
     "execution_count": 37,
     "metadata": {},
     "output_type": "execute_result"
    }
   ],
   "source": [
    "train_targets.shape"
   ]
  },
  {
   "cell_type": "code",
   "execution_count": 38,
   "id": "03f8aa5a",
   "metadata": {},
   "outputs": [
    {
     "data": {
      "text/html": [
       "<div>\n",
       "<style scoped>\n",
       "    .dataframe tbody tr th:only-of-type {\n",
       "        vertical-align: middle;\n",
       "    }\n",
       "\n",
       "    .dataframe tbody tr th {\n",
       "        vertical-align: top;\n",
       "    }\n",
       "\n",
       "    .dataframe thead th {\n",
       "        text-align: right;\n",
       "    }\n",
       "</style>\n",
       "<table border=\"1\" class=\"dataframe\">\n",
       "  <thead>\n",
       "    <tr style=\"text-align: right;\">\n",
       "      <th></th>\n",
       "      <th>Income</th>\n",
       "      <th>Age</th>\n",
       "      <th>Experience</th>\n",
       "      <th>Married/Single</th>\n",
       "      <th>House_Ownership</th>\n",
       "      <th>Car_Ownership</th>\n",
       "      <th>Profession</th>\n",
       "      <th>CITY</th>\n",
       "      <th>STATE</th>\n",
       "      <th>CURRENT_JOB_YRS</th>\n",
       "      <th>CURRENT_HOUSE_YRS</th>\n",
       "    </tr>\n",
       "  </thead>\n",
       "  <tbody>\n",
       "    <tr>\n",
       "      <th>0</th>\n",
       "      <td>7393090</td>\n",
       "      <td>59</td>\n",
       "      <td>19</td>\n",
       "      <td>single</td>\n",
       "      <td>rented</td>\n",
       "      <td>no</td>\n",
       "      <td>Geologist</td>\n",
       "      <td>Malda</td>\n",
       "      <td>West Bengal</td>\n",
       "      <td>4</td>\n",
       "      <td>13</td>\n",
       "    </tr>\n",
       "    <tr>\n",
       "      <th>1</th>\n",
       "      <td>1215004</td>\n",
       "      <td>25</td>\n",
       "      <td>5</td>\n",
       "      <td>single</td>\n",
       "      <td>rented</td>\n",
       "      <td>no</td>\n",
       "      <td>Firefighter</td>\n",
       "      <td>Jalna</td>\n",
       "      <td>Maharashtra</td>\n",
       "      <td>5</td>\n",
       "      <td>10</td>\n",
       "    </tr>\n",
       "    <tr>\n",
       "      <th>2</th>\n",
       "      <td>8901342</td>\n",
       "      <td>50</td>\n",
       "      <td>12</td>\n",
       "      <td>single</td>\n",
       "      <td>rented</td>\n",
       "      <td>no</td>\n",
       "      <td>Lawyer</td>\n",
       "      <td>Thane</td>\n",
       "      <td>Maharashtra</td>\n",
       "      <td>9</td>\n",
       "      <td>14</td>\n",
       "    </tr>\n",
       "    <tr>\n",
       "      <th>3</th>\n",
       "      <td>1944421</td>\n",
       "      <td>49</td>\n",
       "      <td>9</td>\n",
       "      <td>married</td>\n",
       "      <td>rented</td>\n",
       "      <td>yes</td>\n",
       "      <td>Analyst</td>\n",
       "      <td>Latur</td>\n",
       "      <td>Maharashtra</td>\n",
       "      <td>3</td>\n",
       "      <td>12</td>\n",
       "    </tr>\n",
       "    <tr>\n",
       "      <th>4</th>\n",
       "      <td>13429</td>\n",
       "      <td>25</td>\n",
       "      <td>18</td>\n",
       "      <td>single</td>\n",
       "      <td>rented</td>\n",
       "      <td>yes</td>\n",
       "      <td>Comedian</td>\n",
       "      <td>Berhampore</td>\n",
       "      <td>West Bengal</td>\n",
       "      <td>13</td>\n",
       "      <td>11</td>\n",
       "    </tr>\n",
       "  </tbody>\n",
       "</table>\n",
       "</div>"
      ],
      "text/plain": [
       "    Income  Age  Experience Married/Single House_Ownership Car_Ownership  \\\n",
       "0  7393090   59          19         single          rented            no   \n",
       "1  1215004   25           5         single          rented            no   \n",
       "2  8901342   50          12         single          rented            no   \n",
       "3  1944421   49           9        married          rented           yes   \n",
       "4    13429   25          18         single          rented           yes   \n",
       "\n",
       "    Profession        CITY        STATE  CURRENT_JOB_YRS  CURRENT_HOUSE_YRS  \n",
       "0    Geologist       Malda  West Bengal                4                 13  \n",
       "1  Firefighter       Jalna  Maharashtra                5                 10  \n",
       "2       Lawyer       Thane  Maharashtra                9                 14  \n",
       "3      Analyst       Latur  Maharashtra                3                 12  \n",
       "4     Comedian  Berhampore  West Bengal               13                 11  "
      ]
     },
     "execution_count": 38,
     "metadata": {},
     "output_type": "execute_result"
    }
   ],
   "source": [
    "test_df.head()"
   ]
  },
  {
   "cell_type": "markdown",
   "id": "7acae58f",
   "metadata": {},
   "source": [
    "# Training Logistic Regression model"
   ]
  },
  {
   "cell_type": "code",
   "execution_count": 39,
   "id": "4ba660e0",
   "metadata": {},
   "outputs": [],
   "source": [
    "from sklearn.linear_model import LogisticRegression"
   ]
  },
  {
   "cell_type": "code",
   "execution_count": 40,
   "id": "0c68315e",
   "metadata": {},
   "outputs": [],
   "source": [
    "model= LogisticRegression(solver= \"liblinear\", random_state= 25, max_iter= 150)"
   ]
  },
  {
   "cell_type": "code",
   "execution_count": 41,
   "id": "0b4d1e7b",
   "metadata": {},
   "outputs": [
    {
     "data": {
      "text/plain": [
       "LogisticRegression(max_iter=150, random_state=25, solver='liblinear')"
      ]
     },
     "execution_count": 41,
     "metadata": {},
     "output_type": "execute_result"
    }
   ],
   "source": [
    "model.fit(train_inputs[numeric_cols+encoded_cols], train_targets)"
   ]
  },
  {
   "cell_type": "code",
   "execution_count": 42,
   "id": "cb79dc4f",
   "metadata": {},
   "outputs": [
    {
     "data": {
      "text/plain": [
       "[[-0.03857562757243838,\n",
       "  -0.2117412551027945,\n",
       "  -0.4251680662406704,\n",
       "  0.09134241726280798,\n",
       "  -0.008870747519112977,\n",
       "  -0.5336457124340261,\n",
       "  -0.31529630038037476,\n",
       "  -0.34189891466870803,\n",
       "  -0.451069399116111,\n",
       "  -0.05597369902822305,\n",
       "  -0.347620147586649,\n",
       "  -0.501321865227521,\n",
       "  0.12654836897452876,\n",
       "  -0.06965645351422911,\n",
       "  0.11283786409548058,\n",
       "  0.26684875896703686,\n",
       "  -0.008057899615545115,\n",
       "  0.062404934501254526,\n",
       "  0.020508614302697868,\n",
       "  0.2607096583536548,\n",
       "  -0.051599035969331894,\n",
       "  -0.11396798737918877,\n",
       "  0.10825319606312753,\n",
       "  -0.10716124689990686,\n",
       "  -0.0508661240737817,\n",
       "  0.020408597776383566,\n",
       "  0.022344067021926643,\n",
       "  -0.02850030623293455,\n",
       "  -0.13691584731561446,\n",
       "  -0.19554094893081983,\n",
       "  -0.15522606354274257,\n",
       "  -0.06624252248645984,\n",
       "  -0.25952011830769006,\n",
       "  -0.12567258956063088,\n",
       "  -0.061219395247157596,\n",
       "  -0.17921405495551412,\n",
       "  0.08605542046582514,\n",
       "  -0.057285851103121344,\n",
       "  0.21495326462477699,\n",
       "  -0.06823749729204892,\n",
       "  0.10567294301668656,\n",
       "  -0.2613730497158148,\n",
       "  0.026019455373930602,\n",
       "  -0.11646785669556131,\n",
       "  -0.03160935075486932,\n",
       "  -0.1572118807686836,\n",
       "  0.0036940597504137498,\n",
       "  0.10463082284985946,\n",
       "  -0.38266185255070695,\n",
       "  -0.048646079364545985,\n",
       "  0.363826149098339,\n",
       "  -0.17912586658508975,\n",
       "  -0.019269974398329393,\n",
       "  0.18853275582350232,\n",
       "  0.04521740454548759,\n",
       "  0.21559461354551257,\n",
       "  -0.045357758133728734,\n",
       "  -0.06294106200160422,\n",
       "  0.22319531201331455,\n",
       "  0.06515753622831605,\n",
       "  0.08851315056538646,\n",
       "  -0.4635888461151814,\n",
       "  -0.07773144126070983]]"
      ]
     },
     "execution_count": 42,
     "metadata": {},
     "output_type": "execute_result"
    }
   ],
   "source": [
    "model.coef_.tolist()"
   ]
  },
  {
   "cell_type": "code",
   "execution_count": 43,
   "id": "54b36f62",
   "metadata": {},
   "outputs": [
    {
     "data": {
      "text/plain": [
       "array([-0.84894201])"
      ]
     },
     "execution_count": 43,
     "metadata": {},
     "output_type": "execute_result"
    }
   ],
   "source": [
    "model.intercept_"
   ]
  },
  {
   "cell_type": "markdown",
   "id": "b8417b22",
   "metadata": {},
   "source": [
    "# Making Prediction and Evaluating the model"
   ]
  },
  {
   "cell_type": "code",
   "execution_count": 44,
   "id": "4f1525fc",
   "metadata": {},
   "outputs": [],
   "source": [
    "train_preds= model.predict(train_inputs[numeric_cols + encoded_cols])"
   ]
  },
  {
   "cell_type": "code",
   "execution_count": 45,
   "id": "6230c779",
   "metadata": {},
   "outputs": [
    {
     "data": {
      "text/plain": [
       "array([0, 0, 0, ..., 0, 0, 0], dtype=int64)"
      ]
     },
     "execution_count": 45,
     "metadata": {},
     "output_type": "execute_result"
    }
   ],
   "source": [
    "train_preds"
   ]
  },
  {
   "cell_type": "code",
   "execution_count": 46,
   "id": "eb21eae2",
   "metadata": {},
   "outputs": [
    {
     "data": {
      "text/plain": [
       "0    189000\n",
       "dtype: int64"
      ]
     },
     "execution_count": 46,
     "metadata": {},
     "output_type": "execute_result"
    }
   ],
   "source": [
    "pd.value_counts(train_preds)"
   ]
  },
  {
   "cell_type": "code",
   "execution_count": 47,
   "id": "545ec591",
   "metadata": {},
   "outputs": [
    {
     "data": {
      "text/plain": [
       "247880    0\n",
       "178765    0\n",
       "90252     0\n",
       "56089     0\n",
       "251080    0\n",
       "         ..\n",
       "220060    0\n",
       "23775     1\n",
       "37135     0\n",
       "92634     0\n",
       "245091    0\n",
       "Name: Risk_Flag, Length: 189000, dtype: int64"
      ]
     },
     "execution_count": 47,
     "metadata": {},
     "output_type": "execute_result"
    }
   ],
   "source": [
    "train_targets"
   ]
  },
  {
   "cell_type": "code",
   "execution_count": 48,
   "id": "d7143cbb",
   "metadata": {},
   "outputs": [
    {
     "data": {
      "text/plain": [
       "array([[0.85670588, 0.14329412],\n",
       "       [0.83359564, 0.16640436],\n",
       "       [0.87649146, 0.12350854],\n",
       "       ...,\n",
       "       [0.87864255, 0.12135745],\n",
       "       [0.85179818, 0.14820182],\n",
       "       [0.89520058, 0.10479942]])"
      ]
     },
     "execution_count": 48,
     "metadata": {},
     "output_type": "execute_result"
    }
   ],
   "source": [
    "train_probs= model.predict_proba(input_df[numeric_cols+encoded_cols])\n",
    "train_probs"
   ]
  },
  {
   "cell_type": "code",
   "execution_count": 49,
   "id": "71f31386",
   "metadata": {},
   "outputs": [],
   "source": [
    "from sklearn.metrics import accuracy_score"
   ]
  },
  {
   "cell_type": "code",
   "execution_count": 50,
   "id": "96d909a5",
   "metadata": {},
   "outputs": [
    {
     "data": {
      "text/plain": [
       "0.8768042328042328"
      ]
     },
     "execution_count": 50,
     "metadata": {},
     "output_type": "execute_result"
    }
   ],
   "source": [
    "accuracy_score(train_targets, train_preds)"
   ]
  },
  {
   "cell_type": "markdown",
   "id": "cdc6bf4d",
   "metadata": {},
   "source": [
    "# Making Prediction On Test Data"
   ]
  },
  {
   "cell_type": "code",
   "execution_count": 51,
   "id": "f6aeeb4f",
   "metadata": {},
   "outputs": [],
   "source": [
    "def pred_input(single_input):\n",
    "    input_df= test_df\n",
    "    \n",
    "    input_df[numeric_cols]= scaler.transform(input_df[numeric_cols])\n",
    "    input_df[encoded_cols]= encoder.transform(input_df[categorical_cols])\n",
    "    x_input= input_df[numeric_cols+encoded_cols]\n",
    "    pred= model.predict(x_input)[0]\n",
    "    prob= model.predict_proba(x_input)[0][list(model.classes_).index(pred)]\n",
    "    \n",
    "    return pred,prob"
   ]
  },
  {
   "cell_type": "code",
   "execution_count": 52,
   "id": "125eacaa",
   "metadata": {},
   "outputs": [
    {
     "data": {
      "text/plain": [
       "(0, 0.8704090047615639)"
      ]
     },
     "execution_count": 52,
     "metadata": {},
     "output_type": "execute_result"
    }
   ],
   "source": [
    "pred_input(test_df)"
   ]
  },
  {
   "cell_type": "markdown",
   "id": "1be41fba",
   "metadata": {},
   "source": [
    "# Training Decision Tree Model"
   ]
  },
  {
   "cell_type": "code",
   "execution_count": 54,
   "id": "082839e2",
   "metadata": {},
   "outputs": [],
   "source": [
    "from sklearn.tree import DecisionTreeClassifier "
   ]
  },
  {
   "cell_type": "code",
   "execution_count": 57,
   "id": "c5369dc6",
   "metadata": {},
   "outputs": [],
   "source": [
    "model= DecisionTreeClassifier(random_state= 25, max_depth= 5)"
   ]
  },
  {
   "cell_type": "code",
   "execution_count": 63,
   "id": "e596c693",
   "metadata": {},
   "outputs": [
    {
     "data": {
      "text/plain": [
       "DecisionTreeClassifier(max_depth=5, random_state=25)"
      ]
     },
     "execution_count": 63,
     "metadata": {},
     "output_type": "execute_result"
    }
   ],
   "source": [
    "model.fit(train_inputs[numeric_cols + encoded_cols], train_targets) "
   ]
  },
  {
   "cell_type": "code",
   "execution_count": 64,
   "id": "26e9912a",
   "metadata": {},
   "outputs": [
    {
     "data": {
      "text/plain": [
       "0.8776031746031746"
      ]
     },
     "execution_count": 64,
     "metadata": {},
     "output_type": "execute_result"
    }
   ],
   "source": [
    "model.score(train_inputs[numeric_cols+encoded_cols], train_targets)"
   ]
  },
  {
   "cell_type": "code",
   "execution_count": 65,
   "id": "e0bebc5f",
   "metadata": {},
   "outputs": [],
   "source": [
    "train_preds= model.predict(train_inputs[numeric_cols+encoded_cols])"
   ]
  },
  {
   "cell_type": "code",
   "execution_count": 66,
   "id": "0f9ebd9d",
   "metadata": {},
   "outputs": [
    {
     "data": {
      "text/plain": [
       "array([0, 0, 0, ..., 0, 0, 0], dtype=int64)"
      ]
     },
     "execution_count": 66,
     "metadata": {},
     "output_type": "execute_result"
    }
   ],
   "source": [
    "train_preds"
   ]
  },
  {
   "cell_type": "code",
   "execution_count": 67,
   "id": "b5b38ac4",
   "metadata": {},
   "outputs": [
    {
     "data": {
      "text/plain": [
       "0    188631\n",
       "1       369\n",
       "dtype: int64"
      ]
     },
     "execution_count": 67,
     "metadata": {},
     "output_type": "execute_result"
    }
   ],
   "source": [
    "pd.value_counts(train_preds)"
   ]
  },
  {
   "cell_type": "code",
   "execution_count": 68,
   "id": "dc2ba2e2",
   "metadata": {},
   "outputs": [
    {
     "data": {
      "text/plain": [
       "0.8776031746031746"
      ]
     },
     "execution_count": 68,
     "metadata": {},
     "output_type": "execute_result"
    }
   ],
   "source": [
    "accuracy_score(train_preds, train_targets)"
   ]
  },
  {
   "cell_type": "code",
   "execution_count": 69,
   "id": "830d266e",
   "metadata": {},
   "outputs": [],
   "source": [
    "from sklearn.tree import plot_tree, export_text"
   ]
  },
  {
   "cell_type": "code",
   "execution_count": 71,
   "id": "6967fe6c",
   "metadata": {},
   "outputs": [
    {
     "data": {
      "image/png": "[encoded data removed]",
      "text/plain": [
       "<Figure size 5760x1440 with 1 Axes>"
      ]
     },
     "metadata": {},
     "output_type": "display_data"
    }
   ],
   "source": [
    "plt.figure(figsize=(80,20))\n",
    "plot_tree(model, feature_names= train_inputs[numeric_cols+encoded_cols].columns, max_depth= 2, filled= True);"
   ]
  },
  {
   "cell_type": "code",
   "execution_count": 72,
   "id": "1c0056c0",
   "metadata": {},
   "outputs": [
    {
     "name": "stdout",
     "output_type": "stream",
     "text": [
      "|--- Experience <= 0.13\n",
      "|   |--- Age <= 0.11\n",
      "|   |   |--- Profession_Consultant <= 0.50\n",
      "|   |   |   |--- Profession_Police_officer <= 0.50\n",
      "|   |   |   |   |--- Profession_Chartered_Accountant <= 0.50\n",
      "|   |   |   |   |   |--- class: 0\n",
      "|   |   |   |   |--- Profession_Chartered_Accountant >  0.50\n",
      "|   |   |   |   |   |--- class: 1\n",
      "|   |   |   |--- Profession_Police_officer >  0.50\n",
      "|   |   |   |   |--- CURRENT_HOUSE_YRS <= 0.62\n",
      "|   |   |   |   |   |--- class: 1\n",
      "|   |   |   |   |--- CURRENT_HOUSE_YRS >  0.62\n",
      "|   |   |   |   |   |--- class: 0\n",
      "|   |   |--- Profession_Consultant >  0.50\n",
      "|   |   |   |--- Income <= 0.08\n",
      "|   |   |   |   |--- Age <= 0.09\n",
      "|   |   |   |   |   |--- class: 1\n",
      "|   |   |   |   |--- Age >  0.09\n",
      "|   |   |   |   |   |--- class: 0\n",
      "|   |   |   |--- Income >  0.08\n",
      "|   |   |   |   |--- Income <= 0.74\n",
      "|   |   |   |   |   |--- class: 0\n",
      "|   |   |   |   |--- Income >  0.74\n",
      "|   |   |   |   |   |--- class: 1\n",
      "|   |--- Age >  0.11\n",
      "|   |   |--- Profession_Physician <= 0.50\n",
      "|   |   |   |--- Experience <= 0.08\n",
      "|   |   |   |   |--- Profession_Surveyor <= 0.50\n",
      "|   |   |   |   |   |--- class: 0\n",
      "|   |   |   |   |--- Profession_Surveyor >  0.50\n",
      "|   |   |   |   |   |--- class: 0\n",
      "|   |   |   |--- Experience >  0.08\n",
      "|   |   |   |   |--- Profession_Dentist <= 0.50\n",
      "|   |   |   |   |   |--- class: 0\n",
      "|   |   |   |   |--- Profession_Dentist >  0.50\n",
      "|   |   |   |   |   |--- class: 0\n",
      "|   |   |--- Profession_Physician >  0.50\n",
      "|   |   |   |--- Income <= 0.87\n",
      "|   |   |   |   |--- CURRENT_HOUSE_YRS <= 0.88\n",
      "|   |   |   |   |   |--- class: 0\n",
      "|   |   |   |   |--- CURRENT_HOUSE_YRS >  0.88\n",
      "|   |   |   |   |   |--- class: 1\n",
      "|   |   |   |--- Income >  0.87\n",
      "|   |   |   |   |--- CURRENT_JOB_YRS <= 0.04\n",
      "|   |   |   |   |   |--- class: 0\n",
      "|   |   |   |   |--- CURRENT_JOB_YRS >  0.04\n",
      "|   |   |   |   |   |--- class: 1\n",
      "|--- Experience >  0.13\n",
      "|   |--- Age <= 0.22\n",
      "|   |   |--- House_Ownership_rented <= 0.50\n",
      "|   |   |   |--- Profession_Dentist <= 0.50\n",
      "|   |   |   |   |--- Profession_Financial_Analyst <= 0.50\n",
      "|   |   |   |   |   |--- class: 0\n",
      "|   |   |   |   |--- Profession_Financial_Analyst >  0.50\n",
      "|   |   |   |   |   |--- class: 0\n",
      "|   |   |   |--- Profession_Dentist >  0.50\n",
      "|   |   |   |   |--- Age <= 0.10\n",
      "|   |   |   |   |   |--- class: 0\n",
      "|   |   |   |   |--- Age >  0.10\n",
      "|   |   |   |   |   |--- class: 0\n",
      "|   |   |--- House_Ownership_rented >  0.50\n",
      "|   |   |   |--- Car_Ownership_yes <= 0.50\n",
      "|   |   |   |   |--- Income <= 0.67\n",
      "|   |   |   |   |   |--- class: 0\n",
      "|   |   |   |   |--- Income >  0.67\n",
      "|   |   |   |   |   |--- class: 0\n",
      "|   |   |   |--- Car_Ownership_yes >  0.50\n",
      "|   |   |   |   |--- Income <= 0.01\n",
      "|   |   |   |   |   |--- class: 0\n",
      "|   |   |   |   |--- Income >  0.01\n",
      "|   |   |   |   |   |--- class: 0\n",
      "|   |--- Age >  0.22\n",
      "|   |   |--- Experience <= 0.83\n",
      "|   |   |   |--- Profession_Geologist <= 0.50\n",
      "|   |   |   |   |--- Profession_Dentist <= 0.50\n",
      "|   |   |   |   |   |--- class: 0\n",
      "|   |   |   |   |--- Profession_Dentist >  0.50\n",
      "|   |   |   |   |   |--- class: 0\n",
      "|   |   |   |--- Profession_Geologist >  0.50\n",
      "|   |   |   |   |--- Income <= 0.15\n",
      "|   |   |   |   |   |--- class: 0\n",
      "|   |   |   |   |--- Income >  0.15\n",
      "|   |   |   |   |   |--- class: 0\n",
      "|   |   |--- Experience >  0.83\n",
      "|   |   |   |--- Income <= 0.17\n",
      "|   |   |   |   |--- Income <= 0.16\n",
      "|   |   |   |   |   |--- class: 0\n",
      "|   |   |   |   |--- Income >  0.16\n",
      "|   |   |   |   |   |--- class: 0\n",
      "|   |   |   |--- Income >  0.17\n",
      "|   |   |   |   |--- CURRENT_JOB_YRS <= 0.75\n",
      "|   |   |   |   |   |--- class: 0\n",
      "|   |   |   |   |--- CURRENT_JOB_YRS >  0.75\n",
      "|   |   |   |   |   |--- class: 0\n",
      "\n"
     ]
    }
   ],
   "source": [
    "tree_text= export_text(model, max_depth= 10, feature_names= list(train_inputs[numeric_cols+encoded_cols].columns))\n",
    "print(tree_text[:5000])"
   ]
  },
  {
   "cell_type": "code",
   "execution_count": 75,
   "id": "ba9b64eb",
   "metadata": {},
   "outputs": [],
   "source": [
    "importance_df= pd.DataFrame({\n",
    "    \"feature\": train_inputs[numeric_cols+encoded_cols].columns,\n",
    "    \"importance\": model.feature_importances_\n",
    "}).sort_values(\"importance\", ascending= False)"
   ]
  },
  {
   "cell_type": "code",
   "execution_count": 76,
   "id": "5cb9f6b1",
   "metadata": {},
   "outputs": [
    {
     "data": {
      "text/html": [
       "<div>\n",
       "<style scoped>\n",
       "    .dataframe tbody tr th:only-of-type {\n",
       "        vertical-align: middle;\n",
       "    }\n",
       "\n",
       "    .dataframe tbody tr th {\n",
       "        vertical-align: top;\n",
       "    }\n",
       "\n",
       "    .dataframe thead th {\n",
       "        text-align: right;\n",
       "    }\n",
       "</style>\n",
       "<table border=\"1\" class=\"dataframe\">\n",
       "  <thead>\n",
       "    <tr style=\"text-align: right;\">\n",
       "      <th></th>\n",
       "      <th>feature</th>\n",
       "      <th>importance</th>\n",
       "    </tr>\n",
       "  </thead>\n",
       "  <tbody>\n",
       "    <tr>\n",
       "      <th>0</th>\n",
       "      <td>Income</td>\n",
       "      <td>0.217420</td>\n",
       "    </tr>\n",
       "    <tr>\n",
       "      <th>2</th>\n",
       "      <td>Experience</td>\n",
       "      <td>0.169954</td>\n",
       "    </tr>\n",
       "    <tr>\n",
       "      <th>28</th>\n",
       "      <td>Profession_Dentist</td>\n",
       "      <td>0.103732</td>\n",
       "    </tr>\n",
       "    <tr>\n",
       "      <th>1</th>\n",
       "      <td>Age</td>\n",
       "      <td>0.094408</td>\n",
       "    </tr>\n",
       "    <tr>\n",
       "      <th>50</th>\n",
       "      <td>Profession_Police_officer</td>\n",
       "      <td>0.068042</td>\n",
       "    </tr>\n",
       "    <tr>\n",
       "      <th>27</th>\n",
       "      <td>Profession_Consultant</td>\n",
       "      <td>0.067090</td>\n",
       "    </tr>\n",
       "    <tr>\n",
       "      <th>19</th>\n",
       "      <td>Profession_Chartered_Accountant</td>\n",
       "      <td>0.059671</td>\n",
       "    </tr>\n",
       "    <tr>\n",
       "      <th>4</th>\n",
       "      <td>CURRENT_HOUSE_YRS</td>\n",
       "      <td>0.046509</td>\n",
       "    </tr>\n",
       "    <tr>\n",
       "      <th>9</th>\n",
       "      <td>House_Ownership_rented</td>\n",
       "      <td>0.038082</td>\n",
       "    </tr>\n",
       "    <tr>\n",
       "      <th>11</th>\n",
       "      <td>Car_Ownership_yes</td>\n",
       "      <td>0.034966</td>\n",
       "    </tr>\n",
       "  </tbody>\n",
       "</table>\n",
       "</div>"
      ],
      "text/plain": [
       "                            feature  importance\n",
       "0                            Income    0.217420\n",
       "2                        Experience    0.169954\n",
       "28               Profession_Dentist    0.103732\n",
       "1                               Age    0.094408\n",
       "50        Profession_Police_officer    0.068042\n",
       "27            Profession_Consultant    0.067090\n",
       "19  Profession_Chartered_Accountant    0.059671\n",
       "4                 CURRENT_HOUSE_YRS    0.046509\n",
       "9            House_Ownership_rented    0.038082\n",
       "11                Car_Ownership_yes    0.034966"
      ]
     },
     "execution_count": 76,
     "metadata": {},
     "output_type": "execute_result"
    }
   ],
   "source": [
    "importance_df.head(10)"
   ]
  },
  {
   "cell_type": "code",
   "execution_count": 77,
   "id": "f4ff9c57",
   "metadata": {},
   "outputs": [
    {
     "data": {
      "image/png": "[encoded data removed]",
      "text/plain": [
       "<Figure size 432x288 with 1 Axes>"
      ]
     },
     "metadata": {},
     "output_type": "display_data"
    }
   ],
   "source": [
    "plt.title('Feature Importance')\n",
    "sns.barplot(data= importance_df.head(10),\n",
    "           x= \"importance\",\n",
    "           y= \"feature\");"
   ]
  },
  {
   "cell_type": "code",
   "execution_count": 155,
   "id": "10eefbe1",
   "metadata": {},
   "outputs": [],
   "source": [
    "def pred_input(single_input):\n",
    "    input_df= test_df\n",
    "    input_df[numesric_cols]= scaler.transform(input_df[numeric_cols])\n",
    "    input_df[encoded_cols]= encoder.transform(input_df[categorical_cols])\n",
    "    x_input= input_df[numeric_cols+encoded_cols]\n",
    "    pred= model.predict(x_input)[0]\n",
    "    prob= model.predict_proba(x_input)[0][list(model.classes_).index(pred)]\n",
    "    return pred,prob"
   ]
  },
  {
   "cell_type": "code",
   "execution_count": 79,
   "id": "e51d433c",
   "metadata": {},
   "outputs": [
    {
     "data": {
      "text/plain": [
       "(0, 0.8173076923076923)"
      ]
     },
     "execution_count": 79,
     "metadata": {},
     "output_type": "execute_result"
    }
   ],
   "source": [
    "pred_input(test_df)"
   ]
  }
 ],
 "metadata": {
  "kernelspec": {
   "display_name": "Python 3",
   "language": "python",
   "name": "python3"
  },
  "language_info": {
   "codemirror_mode": {
    "name": "ipython",
    "version": 3
   },
   "file_extension": ".py",
   "mimetype": "text/x-python",
   "name": "python",
   "nbconvert_exporter": "python",
   "pygments_lexer": "ipython3",
   "version": "3.8.8"
  }
 },
 "nbformat": 4,
 "nbformat_minor": 5
}
